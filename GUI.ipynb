{
  "nbformat": 4,
  "nbformat_minor": 0,
  "metadata": {
    "colab": {
      "name": "GUI.ipynb",
      "provenance": [],
      "authorship_tag": "ABX9TyN02g/GX7ru8Y1LXQQSO7Uw",
      "include_colab_link": true
    },
    "kernelspec": {
      "name": "python3",
      "display_name": "Python 3"
    },
    "language_info": {
      "name": "python"
    }
  },
  "cells": [
    {
      "cell_type": "markdown",
      "metadata": {
        "id": "view-in-github",
        "colab_type": "text"
      },
      "source": [
        "<a href=\"https://colab.research.google.com/github/feliciaxu/697/blob/for_peer_review/GUI.ipynb\" target=\"_parent\"><img src=\"https://colab.research.google.com/assets/colab-badge.svg\" alt=\"Open In Colab\"/></a>"
      ]
    },
    {
      "cell_type": "code",
      "execution_count": 1,
      "metadata": {
        "colab": {
          "base_uri": "https://localhost:8080/"
        },
        "id": "3_7B3zg7Tjb_",
        "outputId": "e7a0f124-9725-4989-cf3a-c4d7a7ea82a6"
      },
      "outputs": [
        {
          "output_type": "stream",
          "name": "stdout",
          "text": [
            "Cloning into 'FUnIE-GAN'...\n",
            "remote: Enumerating objects: 1088, done.\u001b[K\n",
            "remote: Counting objects: 100% (34/34), done.\u001b[K\n",
            "remote: Compressing objects: 100% (24/24), done.\u001b[K\n",
            "remote: Total 1088 (delta 14), reused 24 (delta 10), pack-reused 1054\u001b[K\n",
            "Receiving objects: 100% (1088/1088), 126.27 MiB | 24.84 MiB/s, done.\n",
            "Resolving deltas: 100% (616/616), done.\n"
          ]
        }
      ],
      "source": [
        "!git clone https://github.com/xahidbuffon/FUnIE-GAN.git"
      ]
    },
    {
      "cell_type": "code",
      "source": [
        "!ls"
      ],
      "metadata": {
        "colab": {
          "base_uri": "https://localhost:8080/"
        },
        "id": "rUMlB0F7Tvyy",
        "outputId": "3e84ddc1-60c0-49a8-c9b5-8fc9ac084876"
      },
      "execution_count": 5,
      "outputs": [
        {
          "output_type": "stream",
          "name": "stdout",
          "text": [
            "models\tREADME.md\t  test_UGAN.py\t     train_funieGAN_up.py  utils\n",
            "nets\ttest_funieGAN.py  train_funieGAN.py  train_UGAN.py\n"
          ]
        }
      ]
    },
    {
      "cell_type": "code",
      "source": [
        "cd /content/FUnIE-GAN/TF-Keras"
      ],
      "metadata": {
        "colab": {
          "base_uri": "https://localhost:8080/"
        },
        "id": "Np0GuuH5Txet",
        "outputId": "eae81380-c205-4787-ad0c-3e6d59995e6b"
      },
      "execution_count": 4,
      "outputs": [
        {
          "output_type": "stream",
          "name": "stdout",
          "text": [
            "/content/FUnIE-GAN/TF-Keras\n"
          ]
        }
      ]
    },
    {
      "cell_type": "code",
      "source": [
        "!python test_funieGAN.py "
      ],
      "metadata": {
        "colab": {
          "base_uri": "https://localhost:8080/"
        },
        "id": "dZ6iKIMMT2tT",
        "outputId": "1c8a976a-13d6-488a-a47b-d98f4b2007ce"
      },
      "execution_count": 6,
      "outputs": [
        {
          "output_type": "stream",
          "name": "stdout",
          "text": [
            "23 test images are loaded\n",
            "2022-07-24 13:05:09.522081: E tensorflow/stream_executor/cuda/cuda_driver.cc:271] failed call to cuInit: CUDA_ERROR_NO_DEVICE: no CUDA-capable device is detected\n",
            "\n",
            "Loaded data and model\n",
            "\n",
            "Total images: 23\n",
            "Time taken: 8.928886413574219 sec at 2.4639130772852376 fps\n",
            "\n",
            "Saved generated images in in ../data/output/\n",
            "\n"
          ]
        }
      ]
    },
    {
      "cell_type": "code",
      "source": [
        "cd /content/FUnIE-GAN/Evaluation"
      ],
      "metadata": {
        "colab": {
          "base_uri": "https://localhost:8080/"
        },
        "id": "T1KRYGKGT7FQ",
        "outputId": "53818b0d-79ff-45e3-8251-f8363f404716"
      },
      "execution_count": 7,
      "outputs": [
        {
          "output_type": "stream",
          "name": "stdout",
          "text": [
            "/content/FUnIE-GAN/Evaluation\n"
          ]
        }
      ]
    },
    {
      "cell_type": "code",
      "source": [
        "!python measure_ssim_psnr.py"
      ],
      "metadata": {
        "colab": {
          "base_uri": "https://localhost:8080/"
        },
        "id": "j-avuwXkUMD3",
        "outputId": "0ebfb900-f666-44e9-899c-f24140ba0e98"
      },
      "execution_count": 8,
      "outputs": [
        {
          "output_type": "stream",
          "name": "stdout",
          "text": [
            "SSIM on 0 samples\n",
            "/usr/local/lib/python3.7/dist-packages/numpy/core/fromnumeric.py:3441: RuntimeWarning: Mean of empty slice.\n",
            "  out=out, **kwargs)\n",
            "/usr/local/lib/python3.7/dist-packages/numpy/core/_methods.py:189: RuntimeWarning: invalid value encountered in double_scalars\n",
            "  ret = ret.dtype.type(ret / rcount)\n",
            "/usr/local/lib/python3.7/dist-packages/numpy/core/_methods.py:263: RuntimeWarning: Degrees of freedom <= 0 for slice\n",
            "  keepdims=keepdims, where=where)\n",
            "/usr/local/lib/python3.7/dist-packages/numpy/core/_methods.py:223: RuntimeWarning: invalid value encountered in true_divide\n",
            "  subok=False)\n",
            "/usr/local/lib/python3.7/dist-packages/numpy/core/_methods.py:254: RuntimeWarning: invalid value encountered in double_scalars\n",
            "  ret = ret.dtype.type(ret / rcount)\n",
            "Mean: nan std: nan\n",
            "PSNR on 0 samples\n",
            "Mean: nan std: nan\n"
          ]
        }
      ]
    },
    {
      "cell_type": "code",
      "source": [
        ""
      ],
      "metadata": {
        "id": "J3CEiQr3USoN"
      },
      "execution_count": null,
      "outputs": []
    }
  ]
}